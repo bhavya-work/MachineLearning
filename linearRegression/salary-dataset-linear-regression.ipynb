{
 "cells": [
  {
   "cell_type": "markdown",
   "id": "ce33e4f9",
   "metadata": {
    "papermill": {
     "duration": 0.007473,
     "end_time": "2023-03-03T12:48:22.482039",
     "exception": false,
     "start_time": "2023-03-03T12:48:22.474566",
     "status": "completed"
    },
    "tags": []
   },
   "source": [
    "# Importing the dependencies"
   ]
  },
  {
   "cell_type": "code",
   "execution_count": 1,
   "id": "5e71a19a",
   "metadata": {
    "execution": {
     "iopub.execute_input": "2023-03-03T12:48:22.497355Z",
     "iopub.status.busy": "2023-03-03T12:48:22.496969Z",
     "iopub.status.idle": "2023-03-03T12:48:23.684727Z",
     "shell.execute_reply": "2023-03-03T12:48:23.683549Z"
    },
    "papermill": {
     "duration": 1.19906,
     "end_time": "2023-03-03T12:48:23.687846",
     "exception": false,
     "start_time": "2023-03-03T12:48:22.488786",
     "status": "completed"
    },
    "tags": []
   },
   "outputs": [],
   "source": [
    "import numpy as np\n",
    "import pandas as pd\n",
    "import matplotlib.pyplot as plt\n",
    "from sklearn.linear_model import LinearRegression\n",
    "from sklearn.model_selection import train_test_split\n",
    "from sklearn import metrics"
   ]
  },
  {
   "cell_type": "markdown",
   "id": "58fac8df",
   "metadata": {
    "papermill": {
     "duration": 0.006262,
     "end_time": "2023-03-03T12:48:23.700719",
     "exception": false,
     "start_time": "2023-03-03T12:48:23.694457",
     "status": "completed"
    },
    "tags": []
   },
   "source": [
    "# Importing the dataset to pandas dataFrame"
   ]
  },
  {
   "cell_type": "code",
   "execution_count": 2,
   "id": "12d1b229",
   "metadata": {
    "execution": {
     "iopub.execute_input": "2023-03-03T12:48:23.717555Z",
     "iopub.status.busy": "2023-03-03T12:48:23.716224Z",
     "iopub.status.idle": "2023-03-03T12:48:23.736576Z",
     "shell.execute_reply": "2023-03-03T12:48:23.734736Z"
    },
    "papermill": {
     "duration": 0.033085,
     "end_time": "2023-03-03T12:48:23.740282",
     "exception": false,
     "start_time": "2023-03-03T12:48:23.707197",
     "status": "completed"
    },
    "tags": []
   },
   "outputs": [],
   "source": [
    "df = pd.read_csv('./Salary_dataset.csv')"
   ]
  },
  {
   "cell_type": "markdown",
   "id": "eafbc468",
   "metadata": {
    "papermill": {
     "duration": 0.006398,
     "end_time": "2023-03-03T12:48:23.756369",
     "exception": false,
     "start_time": "2023-03-03T12:48:23.749971",
     "status": "completed"
    },
    "tags": []
   },
   "source": [
    "# Printing the size of dataset"
   ]
  },
  {
   "cell_type": "code",
   "execution_count": 3,
   "id": "304d558c",
   "metadata": {
    "execution": {
     "iopub.execute_input": "2023-03-03T12:48:23.772707Z",
     "iopub.status.busy": "2023-03-03T12:48:23.771323Z",
     "iopub.status.idle": "2023-03-03T12:48:23.800294Z",
     "shell.execute_reply": "2023-03-03T12:48:23.798932Z"
    },
    "papermill": {
     "duration": 0.040159,
     "end_time": "2023-03-03T12:48:23.803073",
     "exception": false,
     "start_time": "2023-03-03T12:48:23.762914",
     "status": "completed"
    },
    "tags": []
   },
   "outputs": [
    {
     "data": {
      "text/plain": [
       "(30, 3)"
      ]
     },
     "execution_count": 3,
     "metadata": {},
     "output_type": "execute_result"
    }
   ],
   "source": [
    "df.shape"
   ]
  },
  {
   "cell_type": "markdown",
   "id": "ab5f42e9",
   "metadata": {
    "papermill": {
     "duration": 0.006652,
     "end_time": "2023-03-03T12:48:23.816683",
     "exception": false,
     "start_time": "2023-03-03T12:48:23.810031",
     "status": "completed"
    },
    "tags": []
   },
   "source": [
    "# Checking the Null values in the dataset"
   ]
  },
  {
   "cell_type": "code",
   "execution_count": 4,
   "id": "2d661e38",
   "metadata": {
    "execution": {
     "iopub.execute_input": "2023-03-03T12:48:23.832360Z",
     "iopub.status.busy": "2023-03-03T12:48:23.831966Z",
     "iopub.status.idle": "2023-03-03T12:48:23.842173Z",
     "shell.execute_reply": "2023-03-03T12:48:23.841235Z"
    },
    "papermill": {
     "duration": 0.02068,
     "end_time": "2023-03-03T12:48:23.844562",
     "exception": false,
     "start_time": "2023-03-03T12:48:23.823882",
     "status": "completed"
    },
    "tags": []
   },
   "outputs": [
    {
     "data": {
      "text/plain": [
       "Unnamed: 0         0\n",
       "YearsExperience    0\n",
       "Salary             0\n",
       "dtype: int64"
      ]
     },
     "execution_count": 4,
     "metadata": {},
     "output_type": "execute_result"
    }
   ],
   "source": [
    "df.isnull().sum()"
   ]
  },
  {
   "cell_type": "markdown",
   "id": "ddbc9714",
   "metadata": {
    "papermill": {
     "duration": 0.007756,
     "end_time": "2023-03-03T12:48:23.859208",
     "exception": false,
     "start_time": "2023-03-03T12:48:23.851452",
     "status": "completed"
    },
    "tags": []
   },
   "source": [
    "# Reshaping the values"
   ]
  },
  {
   "cell_type": "code",
   "execution_count": 5,
   "id": "0a559b12",
   "metadata": {},
   "outputs": [],
   "source": [
    "x=df.iloc[:,1].values.reshape(-1,1)\n",
    "y=df.iloc[:,-1].values.reshape(-1,1)"
   ]
  },
  {
   "cell_type": "markdown",
   "id": "a761fd53",
   "metadata": {
    "papermill": {
     "duration": 0.00696,
     "end_time": "2023-03-03T12:48:23.950802",
     "exception": false,
     "start_time": "2023-03-03T12:48:23.943842",
     "status": "completed"
    },
    "tags": []
   },
   "source": [
    "# Ploting the values in the scatter plot"
   ]
  },
  {
   "cell_type": "code",
   "execution_count": 6,
   "id": "33585f33",
   "metadata": {
    "execution": {
     "iopub.execute_input": "2023-03-03T12:48:23.967716Z",
     "iopub.status.busy": "2023-03-03T12:48:23.966843Z",
     "iopub.status.idle": "2023-03-03T12:48:24.284178Z",
     "shell.execute_reply": "2023-03-03T12:48:24.282905Z"
    },
    "papermill": {
     "duration": 0.328973,
     "end_time": "2023-03-03T12:48:24.286899",
     "exception": false,
     "start_time": "2023-03-03T12:48:23.957926",
     "status": "completed"
    },
    "tags": []
   },
   "outputs": [
    {
     "data": {
      "text/plain": [
       "<matplotlib.collections.PathCollection at 0x266f0dcaa00>"
      ]
     },
     "execution_count": 6,
     "metadata": {},
     "output_type": "execute_result"
    },
    {
     "data": {
      "image/png": "[encoded data removed]",
      "text/plain": [
       "<Figure size 640x480 with 1 Axes>"
      ]
     },
     "metadata": {},
     "output_type": "display_data"
    }
   ],
   "source": [
    "plt.title('Salary Linear model')\n",
    "plt.xlabel('Year of experience')\n",
    "plt.ylabel('Amount of the salary')\n",
    "plt.scatter(df.YearsExperience, df.Salary)"
   ]
  },
  {
   "cell_type": "markdown",
   "id": "397242aa",
   "metadata": {
    "papermill": {
     "duration": 0.007234,
     "end_time": "2023-03-03T12:48:24.301732",
     "exception": false,
     "start_time": "2023-03-03T12:48:24.294498",
     "status": "completed"
    },
    "tags": []
   },
   "source": [
    "# Spliting the data into train and test data"
   ]
  },
  {
   "cell_type": "code",
   "execution_count": 7,
   "id": "9e6d6c66",
   "metadata": {
    "execution": {
     "iopub.execute_input": "2023-03-03T12:48:24.319300Z",
     "iopub.status.busy": "2023-03-03T12:48:24.318540Z",
     "iopub.status.idle": "2023-03-03T12:48:24.329524Z",
     "shell.execute_reply": "2023-03-03T12:48:24.327733Z"
    },
    "papermill": {
     "duration": 0.022704,
     "end_time": "2023-03-03T12:48:24.331992",
     "exception": false,
     "start_time": "2023-03-03T12:48:24.309288",
     "status": "completed"
    },
    "tags": []
   },
   "outputs": [],
   "source": [
    "x_train, x_test, y_train, y_test = train_test_split(x,y,test_size = .2, random_state = 0)"
   ]
  },
  {
   "cell_type": "markdown",
   "id": "9808328f",
   "metadata": {
    "papermill": {
     "duration": 0.007413,
     "end_time": "2023-03-03T12:48:24.347305",
     "exception": false,
     "start_time": "2023-03-03T12:48:24.339892",
     "status": "completed"
    },
    "tags": []
   },
   "source": [
    "# Assigning the LinearRegression function into a variable"
   ]
  },
  {
   "cell_type": "code",
   "execution_count": 8,
   "id": "90e7a5c9",
   "metadata": {
    "execution": {
     "iopub.execute_input": "2023-03-03T12:48:24.364842Z",
     "iopub.status.busy": "2023-03-03T12:48:24.363996Z",
     "iopub.status.idle": "2023-03-03T12:48:24.368464Z",
     "shell.execute_reply": "2023-03-03T12:48:24.367657Z"
    },
    "papermill": {
     "duration": 0.015677,
     "end_time": "2023-03-03T12:48:24.370594",
     "exception": false,
     "start_time": "2023-03-03T12:48:24.354917",
     "status": "completed"
    },
    "tags": []
   },
   "outputs": [],
   "source": [
    "reg = LinearRegression()"
   ]
  },
  {
   "cell_type": "markdown",
   "id": "8a6e653b",
   "metadata": {
    "papermill": {
     "duration": 0.007339,
     "end_time": "2023-03-03T12:48:24.385844",
     "exception": false,
     "start_time": "2023-03-03T12:48:24.378505",
     "status": "completed"
    },
    "tags": []
   },
   "source": [
    "# Training the model"
   ]
  },
  {
   "cell_type": "code",
   "execution_count": 9,
   "id": "78229b51",
   "metadata": {
    "execution": {
     "iopub.execute_input": "2023-03-03T12:48:24.403564Z",
     "iopub.status.busy": "2023-03-03T12:48:24.402352Z",
     "iopub.status.idle": "2023-03-03T12:48:24.419562Z",
     "shell.execute_reply": "2023-03-03T12:48:24.418212Z"
    },
    "papermill": {
     "duration": 0.028524,
     "end_time": "2023-03-03T12:48:24.421899",
     "exception": false,
     "start_time": "2023-03-03T12:48:24.393375",
     "status": "completed"
    },
    "tags": []
   },
   "outputs": [
    {
     "data": {
      "text/plain": [
       "LinearRegression()"
      ]
     },
     "execution_count": 9,
     "metadata": {},
     "output_type": "execute_result"
    }
   ],
   "source": [
    "reg.fit(x_train,y_train)"
   ]
  },
  {
   "cell_type": "markdown",
   "id": "1cb9628a",
   "metadata": {
    "papermill": {
     "duration": 0.007386,
     "end_time": "2023-03-03T12:48:24.437179",
     "exception": false,
     "start_time": "2023-03-03T12:48:24.429793",
     "status": "completed"
    },
    "tags": []
   },
   "source": [
    "# Ploting the interceptor in scatter plot"
   ]
  },
  {
   "cell_type": "code",
   "execution_count": 10,
   "id": "2ba247a6",
   "metadata": {
    "execution": {
     "iopub.execute_input": "2023-03-03T12:48:24.455137Z",
     "iopub.status.busy": "2023-03-03T12:48:24.453958Z",
     "iopub.status.idle": "2023-03-03T12:48:24.705951Z",
     "shell.execute_reply": "2023-03-03T12:48:24.704599Z"
    },
    "papermill": {
     "duration": 0.263925,
     "end_time": "2023-03-03T12:48:24.708743",
     "exception": false,
     "start_time": "2023-03-03T12:48:24.444818",
     "status": "completed"
    },
    "tags": []
   },
   "outputs": [
    {
     "name": "stderr",
     "output_type": "stream",
     "text": [
      "C:\\ProgramData\\Anaconda3\\lib\\site-packages\\sklearn\\base.py:443: UserWarning: X has feature names, but LinearRegression was fitted without feature names\n",
      "  warnings.warn(\n"
     ]
    },
    {
     "data": {
      "text/plain": [
       "[<matplotlib.lines.Line2D at 0x266f14cf580>]"
      ]
     },
     "execution_count": 10,
     "metadata": {},
     "output_type": "execute_result"
    },
    {
     "data": {
      "image/png": "[encoded data removed]",
      "text/plain": [
       "<Figure size 640x480 with 1 Axes>"
      ]
     },
     "metadata": {},
     "output_type": "display_data"
    }
   ],
   "source": [
    "plt.title('Salary Linear model')\n",
    "plt.xlabel('Year of experience')\n",
    "plt.ylabel('Amount of the salary')\n",
    "plt.scatter(df.YearsExperience, df.Salary)\n",
    "plt.plot(df.YearsExperience, reg.predict(df[['YearsExperience']]))"
   ]
  },
  {
   "cell_type": "markdown",
   "id": "1b4e1471",
   "metadata": {
    "papermill": {
     "duration": 0.008634,
     "end_time": "2023-03-03T12:48:24.726495",
     "exception": false,
     "start_time": "2023-03-03T12:48:24.717861",
     "status": "completed"
    },
    "tags": []
   },
   "source": [
    "# Coefficient of the model"
   ]
  },
  {
   "cell_type": "code",
   "execution_count": 11,
   "id": "7eab0ddd",
   "metadata": {
    "execution": {
     "iopub.execute_input": "2023-03-03T12:48:24.746539Z",
     "iopub.status.busy": "2023-03-03T12:48:24.745944Z",
     "iopub.status.idle": "2023-03-03T12:48:24.754035Z",
     "shell.execute_reply": "2023-03-03T12:48:24.752387Z"
    },
    "papermill": {
     "duration": 0.021511,
     "end_time": "2023-03-03T12:48:24.756892",
     "exception": false,
     "start_time": "2023-03-03T12:48:24.735381",
     "status": "completed"
    },
    "tags": []
   },
   "outputs": [
    {
     "data": {
      "text/plain": [
       "array([[9312.57512673]])"
      ]
     },
     "execution_count": 11,
     "metadata": {},
     "output_type": "execute_result"
    }
   ],
   "source": [
    "reg.coef_"
   ]
  },
  {
   "cell_type": "markdown",
   "id": "febfddd1",
   "metadata": {
    "papermill": {
     "duration": 0.008781,
     "end_time": "2023-03-03T12:48:24.774518",
     "exception": false,
     "start_time": "2023-03-03T12:48:24.765737",
     "status": "completed"
    },
    "tags": []
   },
   "source": [
    "# Interceptor of the model"
   ]
  },
  {
   "cell_type": "code",
   "execution_count": 12,
   "id": "a6f79df1",
   "metadata": {
    "execution": {
     "iopub.execute_input": "2023-03-03T12:48:24.795338Z",
     "iopub.status.busy": "2023-03-03T12:48:24.793879Z",
     "iopub.status.idle": "2023-03-03T12:48:24.802440Z",
     "shell.execute_reply": "2023-03-03T12:48:24.801366Z"
    },
    "papermill": {
     "duration": 0.021383,
     "end_time": "2023-03-03T12:48:24.804873",
     "exception": false,
     "start_time": "2023-03-03T12:48:24.783490",
     "status": "completed"
    },
    "tags": []
   },
   "outputs": [
    {
     "data": {
      "text/plain": [
       "array([25849.84163796])"
      ]
     },
     "execution_count": 12,
     "metadata": {},
     "output_type": "execute_result"
    }
   ],
   "source": [
    "reg.intercept_"
   ]
  },
  {
   "cell_type": "markdown",
   "id": "fca4e05a",
   "metadata": {
    "papermill": {
     "duration": 0.008581,
     "end_time": "2023-03-03T12:48:24.822553",
     "exception": false,
     "start_time": "2023-03-03T12:48:24.813972",
     "status": "completed"
    },
    "tags": []
   },
   "source": [
    "# Testing the model with test dataset"
   ]
  },
  {
   "cell_type": "code",
   "execution_count": 13,
   "id": "daebb494",
   "metadata": {
    "execution": {
     "iopub.execute_input": "2023-03-03T12:48:24.843390Z",
     "iopub.status.busy": "2023-03-03T12:48:24.842970Z",
     "iopub.status.idle": "2023-03-03T12:48:24.851015Z",
     "shell.execute_reply": "2023-03-03T12:48:24.849939Z"
    },
    "papermill": {
     "duration": 0.021263,
     "end_time": "2023-03-03T12:48:24.853376",
     "exception": false,
     "start_time": "2023-03-03T12:48:24.832113",
     "status": "completed"
    },
    "tags": []
   },
   "outputs": [
    {
     "data": {
      "text/plain": [
       "array([[ 40749.96184072],\n",
       "       [122700.62295594],\n",
       "       [ 64962.65717022],\n",
       "       [ 63100.14214487],\n",
       "       [115250.56285456],\n",
       "       [107800.50275317]])"
      ]
     },
     "execution_count": 13,
     "metadata": {},
     "output_type": "execute_result"
    }
   ],
   "source": [
    "y_prediction = reg.predict(x_test)\n",
    "y_prediction"
   ]
  },
  {
   "cell_type": "markdown",
   "id": "b7eee7a6",
   "metadata": {
    "papermill": {
     "duration": 0.008973,
     "end_time": "2023-03-03T12:48:24.871532",
     "exception": false,
     "start_time": "2023-03-03T12:48:24.862559",
     "status": "completed"
    },
    "tags": []
   },
   "source": [
    "# Measuring the accuracy / performance of the model"
   ]
  },
  {
   "cell_type": "code",
   "execution_count": 14,
   "id": "8a262184",
   "metadata": {
    "execution": {
     "iopub.execute_input": "2023-03-03T12:48:24.891472Z",
     "iopub.status.busy": "2023-03-03T12:48:24.891040Z",
     "iopub.status.idle": "2023-03-03T12:48:24.898997Z",
     "shell.execute_reply": "2023-03-03T12:48:24.897896Z"
    },
    "papermill": {
     "duration": 0.02079,
     "end_time": "2023-03-03T12:48:24.901450",
     "exception": false,
     "start_time": "2023-03-03T12:48:24.880660",
     "status": "completed"
    },
    "tags": []
   },
   "outputs": [
    {
     "name": "stdout",
     "output_type": "stream",
     "text": [
      "Mean Absolute Error: 2446.17236904651\n",
      "Mean Squared Error: 12823412.298126565\n",
      "Root Mean Squared Error: 3580.9792373213454\n"
     ]
    }
   ],
   "source": [
    "#Evaluating Model\n",
    "\n",
    "print('Mean Absolute Error:', metrics.mean_absolute_error(y_test, y_prediction))  \n",
    "print('Mean Squared Error:', metrics.mean_squared_error(y_test, y_prediction))  \n",
    "print('Root Mean Squared Error:', np.sqrt(metrics.mean_squared_error(y_test, y_prediction)))"
   ]
  },
  {
   "cell_type": "code",
   "execution_count": 15,
   "id": "621ca56a",
   "metadata": {
    "papermill": {
     "duration": 0.00881,
     "end_time": "2023-03-03T12:48:24.919405",
     "exception": false,
     "start_time": "2023-03-03T12:48:24.910595",
     "status": "completed"
    },
    "tags": []
   },
   "outputs": [
    {
     "data": {
      "image/png": "[encoded data removed]",
      "text/plain": [
       "<Figure size 640x480 with 1 Axes>"
      ]
     },
     "metadata": {},
     "output_type": "display_data"
    }
   ],
   "source": [
    "plt.scatter(x_test, y_test,  color='gray')\n",
    "plt.plot(x_test, y_prediction, color='red', linewidth=2)\n",
    "plt.show()"
   ]
  },
  {
   "cell_type": "code",
   "execution_count": null,
   "id": "c3e9e260",
   "metadata": {},
   "outputs": [],
   "source": []
  }
 ],
 "metadata": {
  "kernelspec": {
   "display_name": "Python 3 (ipykernel)",
   "language": "python",
   "name": "python3"
  },
  "language_info": {
   "codemirror_mode": {
    "name": "ipython",
    "version": 3
   },
   "file_extension": ".py",
   "mimetype": "text/x-python",
   "name": "python",
   "nbconvert_exporter": "python",
   "pygments_lexer": "ipython3",
   "version": "3.9.13"
  },
  "papermill": {
   "default_parameters": {},
   "duration": 13.63823,
   "end_time": "2023-03-03T12:48:25.752586",
   "environment_variables": {},
   "exception": null,
   "input_path": "__notebook__.ipynb",
   "output_path": "__notebook__.ipynb",
   "parameters": {},
   "start_time": "2023-03-03T12:48:12.114356",
   "version": "2.4.0"
  }
 },
 "nbformat": 4,
 "nbformat_minor": 5
}
